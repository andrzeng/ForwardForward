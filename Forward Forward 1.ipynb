{
 "cells": [
  {
   "cell_type": "code",
   "execution_count": 1,
   "metadata": {},
   "outputs": [
    {
     "name": "stderr",
     "output_type": "stream",
     "text": [
      "/home/andrew/miniconda3/lib/python3.10/site-packages/tqdm/auto.py:22: TqdmWarning: IProgress not found. Please update jupyter and ipywidgets. See https://ipywidgets.readthedocs.io/en/stable/user_install.html\n",
      "  from .autonotebook import tqdm as notebook_tqdm\n"
     ]
    }
   ],
   "source": [
    "import torch\n",
    "import torch.nn as nn\n",
    "import torch.nn.functional as F\n",
    "import matplotlib.pyplot as plt\n",
    "import numpy as np\n",
    "import sys\n",
    "import torchvision\n",
    "import random\n",
    "from torchvision import datasets, transforms"
   ]
  },
  {
   "cell_type": "code",
   "execution_count": 2,
   "metadata": {},
   "outputs": [
    {
     "name": "stdout",
     "output_type": "stream",
     "text": [
      "Downloading http://yann.lecun.com/exdb/mnist/train-images-idx3-ubyte.gz\n",
      "Downloading http://yann.lecun.com/exdb/mnist/train-images-idx3-ubyte.gz to data/MNIST/raw/train-images-idx3-ubyte.gz\n"
     ]
    },
    {
     "name": "stderr",
     "output_type": "stream",
     "text": [
      "100%|██████████| 9912422/9912422 [00:02<00:00, 3787078.92it/s]\n"
     ]
    },
    {
     "name": "stdout",
     "output_type": "stream",
     "text": [
      "Extracting data/MNIST/raw/train-images-idx3-ubyte.gz to data/MNIST/raw\n",
      "\n",
      "Downloading http://yann.lecun.com/exdb/mnist/train-labels-idx1-ubyte.gz\n",
      "Downloading http://yann.lecun.com/exdb/mnist/train-labels-idx1-ubyte.gz to data/MNIST/raw/train-labels-idx1-ubyte.gz\n"
     ]
    },
    {
     "name": "stderr",
     "output_type": "stream",
     "text": [
      "100%|██████████| 28881/28881 [00:00<00:00, 4188792.62it/s]"
     ]
    },
    {
     "name": "stdout",
     "output_type": "stream",
     "text": [
      "Extracting data/MNIST/raw/train-labels-idx1-ubyte.gz to data/MNIST/raw\n",
      "\n",
      "Downloading http://yann.lecun.com/exdb/mnist/t10k-images-idx3-ubyte.gz\n",
      "Downloading http://yann.lecun.com/exdb/mnist/t10k-images-idx3-ubyte.gz to data/MNIST/raw/t10k-images-idx3-ubyte.gz\n"
     ]
    },
    {
     "name": "stderr",
     "output_type": "stream",
     "text": [
      "\n",
      "100%|██████████| 1648877/1648877 [00:00<00:00, 2606044.19it/s]\n"
     ]
    },
    {
     "name": "stdout",
     "output_type": "stream",
     "text": [
      "Extracting data/MNIST/raw/t10k-images-idx3-ubyte.gz to data/MNIST/raw\n",
      "\n",
      "Downloading http://yann.lecun.com/exdb/mnist/t10k-labels-idx1-ubyte.gz\n",
      "Downloading http://yann.lecun.com/exdb/mnist/t10k-labels-idx1-ubyte.gz to data/MNIST/raw/t10k-labels-idx1-ubyte.gz\n"
     ]
    },
    {
     "name": "stderr",
     "output_type": "stream",
     "text": [
      "100%|██████████| 4542/4542 [00:00<00:00, 10101022.68it/s]"
     ]
    },
    {
     "name": "stdout",
     "output_type": "stream",
     "text": [
      "Extracting data/MNIST/raw/t10k-labels-idx1-ubyte.gz to data/MNIST/raw\n",
      "\n"
     ]
    },
    {
     "name": "stderr",
     "output_type": "stream",
     "text": [
      "\n"
     ]
    }
   ],
   "source": [
    "train_dataset = datasets.MNIST(root=\"data\", download=True, \n",
    "                               train=True, transform=transforms.Compose([\n",
    "    transforms.ToTensor(),\n",
    "     transforms.Normalize((0.1307,), (0.3081,)),\n",
    "     transforms.Resize((14,14))\n",
    "]))"
   ]
  },
  {
   "cell_type": "code",
   "execution_count": 3,
   "metadata": {},
   "outputs": [],
   "source": [
    "test_dataset = datasets.MNIST(root=\"data\", download=True,train=False, transform=transforms.Compose([\n",
    "    transforms.ToTensor(),\n",
    "     transforms.Normalize((0.1307,), (0.3081,)),\n",
    "    transforms.Resize((14,14))\n",
    "]))"
   ]
  },
  {
   "cell_type": "code",
   "execution_count": 4,
   "metadata": {},
   "outputs": [],
   "source": [
    "class ffmodel(nn.Module):\n",
    "    def __init__(self):\n",
    "        super().__init__()\n",
    "        self.linear1 = nn.Linear(196,40)\n",
    "        self.layernorm1 = nn.LayerNorm(40, elementwise_affine=False)\n",
    "\n",
    "        self.linear2 = nn.Linear(40,40)\n",
    "        self.layernorm2 = nn.LayerNorm(40, elementwise_affine=False)\n",
    "        \n",
    "        self.linear3 = nn.Linear(40,40)\n",
    "        self.layernorm3 = nn.LayerNorm(40, elementwise_affine=False)\n",
    "        \n",
    "        self.linear4 = nn.Linear(40,40)\n",
    "        self.layernorm4 = nn.LayerNorm(40, elementwise_affine=False)\n",
    "        \n",
    "\n",
    "    def forward(self, X, \n",
    "                #valency #-1 or 0 or 1 depending on goodness or badness of data or the other way around idk\n",
    "                ):\n",
    "        X = X.flatten(start_dim=1)\n",
    "        \n",
    "        X = self.linear1(X)\n",
    "        X = self.layernorm1(X)\n",
    "        X = torch.relu(X)\n",
    "        ssqa1 = torch.sum(X**2)\n",
    "        X = X.detach() # Detaching X resets the tree that autograd uses to compute gradients. Thus parameter updates will not proceed further down than the local layer\n",
    "\n",
    "        X = self.linear2(X)\n",
    "        X = self.layernorm2(X)\n",
    "        X = torch.relu(X)\n",
    "        ssqa2 = torch.sum(X**2)\n",
    "        X = X.detach()\n",
    "        \n",
    "        X = self.linear3(X)\n",
    "        X = self.layernorm3(X)\n",
    "        X = torch.relu(X)\n",
    "        ssqa3 = torch.sum(X**2)\n",
    "        X = X.detach()\n",
    "\n",
    "        X = self.linear4(X)\n",
    "        X = self.layernorm4(X)\n",
    "        X = torch.relu(X)\n",
    "        ssqa4 = torch.sum(X**2)\n",
    "        \n",
    "        \n",
    "        return X, (ssqa1, ssqa2, ssqa3, ssqa4)"
   ]
  },
  {
   "cell_type": "code",
   "execution_count": 6,
   "metadata": {},
   "outputs": [],
   "source": [
    "# Eval\n",
    "def eval(model):\n",
    "    total = 0\n",
    "    incorrect = 0\n",
    "    with torch.no_grad():\n",
    "        model.eval()\n",
    "\n",
    "        for index, (image, label) in enumerate(test_dataset):\n",
    "            \n",
    "            activities_list = []\n",
    "            for c in range(10):\n",
    "                image[:,0,:10] = torch.zeros_like(image[:,0,:10])\n",
    "                image[:,0,c] = 1\n",
    "\n",
    "                out, ssqs = model(image)\n",
    "                activities_list.append((c, ssqs[1] + ssqs[2] + ssqs[3]))\n",
    "            predicted_label = max(activities_list, key=lambda tup: tup[1])[0]\n",
    "            \n",
    "            total += 1\n",
    "            if(predicted_label != label):\n",
    "                incorrect += 1\n",
    "                #print(predicted_label, label)\n",
    "\n",
    "    model.train()\n",
    "    return incorrect/total"
   ]
  },
  {
   "cell_type": "code",
   "execution_count": 8,
   "metadata": {},
   "outputs": [
    {
     "name": "stdout",
     "output_type": "stream",
     "text": [
      "starting epoch 0\n"
     ]
    },
    {
     "ename": "KeyboardInterrupt",
     "evalue": "",
     "output_type": "error",
     "traceback": [
      "\u001b[0;31m---------------------------------------------------------------------------\u001b[0m",
      "\u001b[0;31mKeyboardInterrupt\u001b[0m                         Traceback (most recent call last)",
      "Cell \u001b[0;32mIn[8], line 14\u001b[0m\n\u001b[1;32m     12\u001b[0m \u001b[39mfor\u001b[39;00m epoch \u001b[39min\u001b[39;00m \u001b[39mrange\u001b[39m(\u001b[39m40\u001b[39m):\n\u001b[1;32m     13\u001b[0m     \u001b[39mprint\u001b[39m(\u001b[39mf\u001b[39m\u001b[39m'\u001b[39m\u001b[39mstarting epoch \u001b[39m\u001b[39m{\u001b[39;00mepoch\u001b[39m}\u001b[39;00m\u001b[39m'\u001b[39m)\n\u001b[0;32m---> 14\u001b[0m     error_rate \u001b[39m=\u001b[39m \u001b[39meval\u001b[39;49m(model)\n\u001b[1;32m     15\u001b[0m     \u001b[39mprint\u001b[39m(\u001b[39mf\u001b[39m\u001b[39m'\u001b[39m\u001b[39mThe error rate is \u001b[39m\u001b[39m{\u001b[39;00merror_rate\u001b[39m}\u001b[39;00m\u001b[39m'\u001b[39m)\n\u001b[1;32m     16\u001b[0m     error_history\u001b[39m.\u001b[39mappend(error_rate)\n",
      "Cell \u001b[0;32mIn[6], line 15\u001b[0m, in \u001b[0;36meval\u001b[0;34m(model)\u001b[0m\n\u001b[1;32m     12\u001b[0m     image[:,\u001b[39m0\u001b[39m,:\u001b[39m10\u001b[39m] \u001b[39m=\u001b[39m torch\u001b[39m.\u001b[39mzeros_like(image[:,\u001b[39m0\u001b[39m,:\u001b[39m10\u001b[39m])\n\u001b[1;32m     13\u001b[0m     image[:,\u001b[39m0\u001b[39m,c] \u001b[39m=\u001b[39m \u001b[39m1\u001b[39m\n\u001b[0;32m---> 15\u001b[0m     out, ssqs \u001b[39m=\u001b[39m model(image)\n\u001b[1;32m     16\u001b[0m     activities_list\u001b[39m.\u001b[39mappend((c, ssqs[\u001b[39m1\u001b[39m] \u001b[39m+\u001b[39m ssqs[\u001b[39m2\u001b[39m] \u001b[39m+\u001b[39m ssqs[\u001b[39m3\u001b[39m]))\n\u001b[1;32m     17\u001b[0m predicted_label \u001b[39m=\u001b[39m \u001b[39mmax\u001b[39m(activities_list, key\u001b[39m=\u001b[39m\u001b[39mlambda\u001b[39;00m tup: tup[\u001b[39m1\u001b[39m])[\u001b[39m0\u001b[39m]\n",
      "File \u001b[0;32m~/.local/lib/python3.10/site-packages/torch/nn/modules/module.py:1194\u001b[0m, in \u001b[0;36mModule._call_impl\u001b[0;34m(self, *input, **kwargs)\u001b[0m\n\u001b[1;32m   1190\u001b[0m \u001b[39m# If we don't have any hooks, we want to skip the rest of the logic in\u001b[39;00m\n\u001b[1;32m   1191\u001b[0m \u001b[39m# this function, and just call forward.\u001b[39;00m\n\u001b[1;32m   1192\u001b[0m \u001b[39mif\u001b[39;00m \u001b[39mnot\u001b[39;00m (\u001b[39mself\u001b[39m\u001b[39m.\u001b[39m_backward_hooks \u001b[39mor\u001b[39;00m \u001b[39mself\u001b[39m\u001b[39m.\u001b[39m_forward_hooks \u001b[39mor\u001b[39;00m \u001b[39mself\u001b[39m\u001b[39m.\u001b[39m_forward_pre_hooks \u001b[39mor\u001b[39;00m _global_backward_hooks\n\u001b[1;32m   1193\u001b[0m         \u001b[39mor\u001b[39;00m _global_forward_hooks \u001b[39mor\u001b[39;00m _global_forward_pre_hooks):\n\u001b[0;32m-> 1194\u001b[0m     \u001b[39mreturn\u001b[39;00m forward_call(\u001b[39m*\u001b[39;49m\u001b[39minput\u001b[39;49m, \u001b[39m*\u001b[39;49m\u001b[39m*\u001b[39;49mkwargs)\n\u001b[1;32m   1195\u001b[0m \u001b[39m# Do not call functions when jit is used\u001b[39;00m\n\u001b[1;32m   1196\u001b[0m full_backward_hooks, non_full_backward_hooks \u001b[39m=\u001b[39m [], []\n",
      "Cell \u001b[0;32mIn[4], line 34\u001b[0m, in \u001b[0;36mffmodel.forward\u001b[0;34m(self, X)\u001b[0m\n\u001b[1;32m     31\u001b[0m ssqa2 \u001b[39m=\u001b[39m torch\u001b[39m.\u001b[39msum(X\u001b[39m*\u001b[39m\u001b[39m*\u001b[39m\u001b[39m2\u001b[39m)\n\u001b[1;32m     32\u001b[0m X \u001b[39m=\u001b[39m X\u001b[39m.\u001b[39mdetach()\n\u001b[0;32m---> 34\u001b[0m X \u001b[39m=\u001b[39m \u001b[39mself\u001b[39;49m\u001b[39m.\u001b[39;49mlinear3(X)\n\u001b[1;32m     35\u001b[0m X \u001b[39m=\u001b[39m \u001b[39mself\u001b[39m\u001b[39m.\u001b[39mlayernorm3(X)\n\u001b[1;32m     36\u001b[0m X \u001b[39m=\u001b[39m torch\u001b[39m.\u001b[39mrelu(X)\n",
      "File \u001b[0;32m~/.local/lib/python3.10/site-packages/torch/nn/modules/module.py:1189\u001b[0m, in \u001b[0;36mModule._call_impl\u001b[0;34m(self, *input, **kwargs)\u001b[0m\n\u001b[1;32m   1188\u001b[0m \u001b[39mdef\u001b[39;00m \u001b[39m_call_impl\u001b[39m(\u001b[39mself\u001b[39m, \u001b[39m*\u001b[39m\u001b[39minput\u001b[39m, \u001b[39m*\u001b[39m\u001b[39m*\u001b[39mkwargs):\n\u001b[0;32m-> 1189\u001b[0m     forward_call \u001b[39m=\u001b[39m (\u001b[39mself\u001b[39m\u001b[39m.\u001b[39m_slow_forward \u001b[39mif\u001b[39;00m torch\u001b[39m.\u001b[39;49m_C\u001b[39m.\u001b[39;49m_get_tracing_state() \u001b[39melse\u001b[39;00m \u001b[39mself\u001b[39m\u001b[39m.\u001b[39mforward)\n\u001b[1;32m   1190\u001b[0m     \u001b[39m# If we don't have any hooks, we want to skip the rest of the logic in\u001b[39;00m\n\u001b[1;32m   1191\u001b[0m     \u001b[39m# this function, and just call forward.\u001b[39;00m\n\u001b[1;32m   1192\u001b[0m     \u001b[39mif\u001b[39;00m \u001b[39mnot\u001b[39;00m (\u001b[39mself\u001b[39m\u001b[39m.\u001b[39m_backward_hooks \u001b[39mor\u001b[39;00m \u001b[39mself\u001b[39m\u001b[39m.\u001b[39m_forward_hooks \u001b[39mor\u001b[39;00m \u001b[39mself\u001b[39m\u001b[39m.\u001b[39m_forward_pre_hooks \u001b[39mor\u001b[39;00m _global_backward_hooks\n\u001b[1;32m   1193\u001b[0m             \u001b[39mor\u001b[39;00m _global_forward_hooks \u001b[39mor\u001b[39;00m _global_forward_pre_hooks):\n",
      "\u001b[0;31mKeyboardInterrupt\u001b[0m: "
     ]
    }
   ],
   "source": [
    "model = ffmodel()\n",
    "#model.load_state_dict(torch.load(\"good_weights.pt\"))\n",
    "lr = 1e-3\n",
    "optimizer = torch.optim.Adam(model.parameters(), lr=lr)\n",
    "\n",
    "arr = np.zeros((10,9))\n",
    "for row_index in range(10):\n",
    "    arr[row_index] = [i for i in range(10) if i != row_index]\n",
    "\n",
    "error_history = []\n",
    "\n",
    "for epoch in range(40):\n",
    "    print(f'starting epoch {epoch}')\n",
    "    error_rate = eval(model)\n",
    "    print(f'The error rate is {error_rate}')\n",
    "    error_history.append(error_rate)\n",
    "\n",
    "    for index, (image, label) in enumerate(train_dataset):\n",
    "        \n",
    "        image[:,0,:10] = torch.zeros_like(image[:,0,:10])\n",
    "\n",
    "        if(random.uniform(0,1) < 0.5): # Positive example\n",
    "            valency = -1\n",
    "            image[:,0,label] = 1\n",
    "\n",
    "        else: # Negative example\n",
    "            valency = 1\n",
    "            image[:,0, random.choice(arr[label]).astype(np.int16)] = 1\n",
    "        \n",
    "       \n",
    "\n",
    "        optimizer.zero_grad()\n",
    "        out, ssqs = model(image)\n",
    "        for ssq in ssqs:\n",
    "            (ssq * valency).backward()\n",
    "            \n",
    "        optimizer.step()\n",
    "        "
   ]
  }
 ],
 "metadata": {
  "kernelspec": {
   "display_name": "base",
   "language": "python",
   "name": "python3"
  },
  "language_info": {
   "codemirror_mode": {
    "name": "ipython",
    "version": 3
   },
   "file_extension": ".py",
   "mimetype": "text/x-python",
   "name": "python",
   "nbconvert_exporter": "python",
   "pygments_lexer": "ipython3",
   "version": "3.10.8"
  },
  "orig_nbformat": 4,
  "vscode": {
   "interpreter": {
    "hash": "aa77068f38439fea3d523770773ba61bd6d72ba10bc6cca53fd2c1ada3d3a952"
   }
  }
 },
 "nbformat": 4,
 "nbformat_minor": 2
}
